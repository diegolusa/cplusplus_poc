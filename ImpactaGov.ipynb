{
  "nbformat": 4,
  "nbformat_minor": 0,
  "metadata": {
    "colab": {
      "name": "ImpactaGov.ipynb",
      "provenance": [],
      "collapsed_sections": [],
      "authorship_tag": "ABX9TyNTZbeblp3eIgeag1R0be24",
      "include_colab_link": true
    },
    "kernelspec": {
      "name": "python3",
      "display_name": "Python 3"
    },
    "language_info": {
      "name": "python"
    }
  },
  "cells": [
    {
      "cell_type": "markdown",
      "metadata": {
        "id": "view-in-github",
        "colab_type": "text"
      },
      "source": [
        "<a href=\"https://colab.research.google.com/github/diegolusa/cplusplus_poc/blob/main/ImpactaGov.ipynb\" target=\"_parent\"><img src=\"https://colab.research.google.com/assets/colab-badge.svg\" alt=\"Open In Colab\"/></a>"
      ]
    },
    {
      "cell_type": "markdown",
      "source": [
        "#Acesso ao GDrive\n",
        "\n",
        "Acessar o diretório onde encontram-se os arquivos de despesas. No código a seguir está sendo utilizado o Google Drive."
      ],
      "metadata": {
        "id": "T_QipjEjmsli"
      }
    },
    {
      "cell_type": "code",
      "execution_count": null,
      "metadata": {
        "id": "E8ohQTn6mBIj"
      },
      "outputs": [],
      "source": [
        "from google.colab import drive\n",
        "drive.mount('/content/drive/')"
      ]
    },
    {
      "cell_type": "markdown",
      "source": [
        "#Instalar Spark\n",
        "\n",
        "A biblioteca Spark permite fluxos de ETL e a aplicação de algoritmos de Machine Learning"
      ],
      "metadata": {
        "id": "CTWq6yR7oVAJ"
      }
    },
    {
      "cell_type": "code",
      "source": [
        "!pip install pyspark"
      ],
      "metadata": {
        "id": "EJSpjopyoUQ6"
      },
      "execution_count": null,
      "outputs": []
    },
    {
      "cell_type": "markdown",
      "source": [
        "# Processar arquivos pelo Spark\n",
        "\n",
        "Leitura dos arquivos CSV de execução de despesas. Os arquivos foram baixados do portal de transparência (http://transparencia.gov.br/download-de-dados/despesas-execucao) e correspondem aos anos de 2019, 2020 e 2021."
      ],
      "metadata": {
        "id": "zkAKcLfVovLE"
      }
    },
    {
      "cell_type": "code",
      "source": [
        "from pyspark.sql import SparkSession\n",
        "\n",
        "dataset =  SparkSession\\\n",
        "  .builder\\\n",
        "  .appName(\"ImpactGov\")\\\n",
        "  .getOrCreate()\\\n",
        "  .read\\\n",
        "  .format(\"csv\")\\\n",
        "  .option(\"sep\",\";\")\\\n",
        "  .option(\"inferSchema\",\"true\")\\\n",
        "  .option(\"header\",\"true\")\\\n",
        "  .option(\"ESCAPE quote\", '\"')\\\n",
        "  .option(\"encoding\", \"ISO-8859-1\")\\\n",
        "  .load(f'/content/drive/MyDrive/ImpactaGov/dados_despesas')\n",
        "\n",
        "print(f'Total de registros lidos: {dataset.count()}')\n"
      ],
      "metadata": {
        "id": "9QY5rVz7o0YJ"
      },
      "execution_count": null,
      "outputs": []
    },
    {
      "cell_type": "markdown",
      "source": [
        "Adicionar coluna representando a natureza da despesa"
      ],
      "metadata": {
        "id": "NceK90cTKFWi"
      }
    },
    {
      "cell_type": "code",
      "source": [
        "from pyspark.sql.functions import col,expr,concat, concat_ws\n",
        "dataset = dataset.withColumn(\"Natureza\",concat(col(\"Código Categoria Econômica\"),col(\"Código Grupo de Despesa\"),\\\n",
        "                                                    col(\"Código Modalidade da Despesa\"),col(\"Código Elemento de Despesa\")))\n",
        "dataset = dataset.withColumn(\"Nome Natureza\",concat_ws(\" - \", col(\"Natureza\"), col(\"Nome Elemento de Despesa\")))"
      ],
      "metadata": {
        "id": "2gRsSkgEKR-y"
      },
      "execution_count": null,
      "outputs": []
    },
    {
      "cell_type": "code",
      "source": [
        "print(dataset.filter(dataset[\"Natureza\"] == \"339039\").count())"
      ],
      "metadata": {
        "id": "Glt3RTnicyHG"
      },
      "execution_count": null,
      "outputs": []
    },
    {
      "cell_type": "markdown",
      "source": [
        "A ação 4572 refere-se a **CAPACITACAO DE SERVIDORES PUBLICOS FEDERAIS EM PROCESSO DE QUALIFICACAO E REQUALIFICACAO**"
      ],
      "metadata": {
        "id": "WtlhYa_3udYC"
      }
    },
    {
      "cell_type": "code",
      "source": [
        "#2018, 2019, 2020 e 2021\n",
        "#tentar filtrar pela natureza de despesa 33903948/33904020\n",
        "\n",
        "ds_acao_4572 = dataset.filter(dataset['Código Ação'] =='4572')\n",
        "print(f'Total de registros lidos: {ds_acao_4572.count()}')"
      ],
      "metadata": {
        "id": "ZWHtkjetzbRq"
      },
      "execution_count": null,
      "outputs": []
    },
    {
      "cell_type": "markdown",
      "source": [
        "Após filtrar, os dados resultantes são exportados em formato CSV"
      ],
      "metadata": {
        "id": "ScSXIvAExq_v"
      }
    },
    {
      "cell_type": "code",
      "source": [
        "ds_acao_4572.coalesce(1).write.format(\"csv\").mode(\"overwrite\").option(\"header\",\"true\").save(\"/content/drive/MyDrive/ImpactaGov/output/resultado.csv\")"
      ],
      "metadata": {
        "id": "yONpip-pzJhz"
      },
      "execution_count": null,
      "outputs": []
    },
    {
      "cell_type": "markdown",
      "source": [
        "Cálculo do valor líquido total investido a cada mês."
      ],
      "metadata": {
        "id": "4JqTXor1zZAk"
      }
    },
    {
      "cell_type": "code",
      "source": [
        "from pyspark.sql.functions import col, regexp_replace, format_number, format_string\n",
        "from pyspark.sql.types import DoubleType\n",
        "\n",
        "total_por_ano_mes = ds_acao_4572\\\n",
        "  .withColumn(\"Valor Liquidado (R$)\",regexp_replace(\"Valor Liquidado (R$)\",\",\",\".\"))\\\n",
        "  .withColumn(\"Valor Liquidado (R$)\",col(\"Valor Liquidado (R$)\").cast(DoubleType()))\\\n",
        "  .groupby('Ano e mês do lançamento')\\\n",
        "  .sum(\"Valor Liquidado (R$)\")\\\n",
        "  .sort('Ano e mês do lançamento')"
      ],
      "metadata": {
        "id": "-tqlvjXqqUnX"
      },
      "execution_count": null,
      "outputs": []
    },
    {
      "cell_type": "markdown",
      "source": [
        "Plotar gráfico com os dados processados."
      ],
      "metadata": {
        "id": "BAKnghVs043q"
      }
    },
    {
      "cell_type": "code",
      "source": [
        "%matplotlib inline \n",
        "import matplotlib.pyplot as plt\n",
        "import seaborn as sns\n",
        "import numpy as np\n",
        "import pandas as pd\n",
        "sns.set_theme(style=\"darkgrid\")\n",
        "sns.set(rc={\"figure.figsize\":(30, 8)})"
      ],
      "metadata": {
        "id": "2bn1ZS355I1A"
      },
      "execution_count": null,
      "outputs": []
    },
    {
      "cell_type": "code",
      "source": [
        "pandas_dataset = total_por_ano_mes.toPandas()\n",
        "chart = sns.barplot(x='Ano e mês do lançamento',y='sum(Valor Liquidado (R$))', data=pandas_dataset)\n",
        "chart.set_xticklabels(chart.get_xticklabels(), rotation=45, horizontalalignment='right')#rotacionar rótulos em X\n",
        "\n",
        "plt.xlabel('Mês/Ano')\n",
        "plt.ylabel('Investimento (Milhões)')\n",
        "plt.title('Investimentos em Capacitação de Servidores (Ação 4572)')\n",
        "\n",
        "plt.savefig(\"/content/drive/MyDrive/ImpactaGov/output/acao_4572.png\")"
      ],
      "metadata": {
        "id": "CXazOpze5n-N"
      },
      "execution_count": null,
      "outputs": []
    },
    {
      "cell_type": "markdown",
      "source": [
        "Plotar gráfico por natureza de despesa (para cada ano)"
      ],
      "metadata": {
        "id": "pVWuyKzseLhj"
      }
    },
    {
      "cell_type": "code",
      "source": [
        "from pyspark.sql import functions as f\n",
        "import pyspark\n",
        "\n",
        "plt.rcParams[\"figure.figsize\"] = [15, 15]\n",
        "plt.rcParams[\"figure.dpi\"] = 300\n",
        "plt.rcParams[\"figure.autolayout\"] = True\n",
        "\n",
        "\n",
        "for ano in range(2018,2022):\n",
        "  #agregar por natureza\n",
        "  total_por_natureza  = ds_acao_4572\\\n",
        "    .withColumn(\"Valor Liquidado (R$)\",regexp_replace(\"Valor Liquidado (R$)\",\",\",\".\"))\\\n",
        "    .withColumn(\"Valor Liquidado (R$)\",col(\"Valor Liquidado (R$)\").cast(DoubleType()))\\\n",
        "    .filter(col(\"Ano e mês do lançamento\").startswith(str(ano)))\\\n",
        "    .groupby('Nome Natureza')\\\n",
        "    .agg(f.sum(\"Valor Liquidado (R$)\").alias(\"total\"))\\\n",
        "    .where(\"total > 0\")\\\n",
        "    .sort(col('total').desc())\n",
        "  #restringir a 7 naturezas principais  \n",
        "  top_7_naturezas = total_por_natureza.limit(7)\n",
        "  #obter as demais naturezas e consolidar em um único valor\n",
        "  demais_naturezas = total_por_natureza.exceptAll(top_7_naturezas)\n",
        "  total_demais_naturezas = demais_naturezas.agg(f.sum(\"total\").alias(\"total\")).collect()[0][\"total\"]\n",
        "  consolidacao_demais_naturezas = SparkSession.builder.appName(\"consolidacaoDemaisNaturezas\").getOrCreate()\\\n",
        "  .createDataFrame(data=[['Demais Naturezas',total_demais_naturezas]], schema=['Nome Natureza','total'])\n",
        "  #unir as 7 principais com a consolidação das demais\n",
        "  top_8_naturezas = top_7_naturezas.union(consolidacao_demais_naturezas)\n",
        "  pandas_dataset  = top_8_naturezas.toPandas()\n",
        "  plt.title(f'Natureza de Despesa ({ano})', loc='left')\n",
        "  plt.pie(pandas_dataset[\"total\"], labels=pandas_dataset['Nome Natureza'],\\\n",
        "        rotatelabels=True,\\\n",
        "        explode=[0,0,0,0,0,0,0,0.3],\\\n",
        "        colors= sns.color_palette(\"bright\"),\\\n",
        "        autopct='%1.1f%%',\\\n",
        "        pctdistance=0.8,\\\n",
        "        startangle=90, shadow=True)\n",
        "  plt.savefig(f'/content/drive/MyDrive/ImpactaGov/output/acao_4572_por_natureza_{ano}.png')\n",
        "  plt.clf()\n",
        "  plt.cla()\n",
        "  plt.close()\n"
      ],
      "metadata": {
        "id": "VnS-YLvOr-FS"
      },
      "execution_count": null,
      "outputs": []
    }
  ]
}